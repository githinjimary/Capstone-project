{
  "nbformat": 4,
  "nbformat_minor": 0,
  "metadata": {
    "colab": {
      "name": "module4trial1.ipynb",
      "provenance": [],
      "authorship_tag": "ABX9TyPdhc1BjK1RIJJR7DVy1vfI",
      "include_colab_link": true
    },
    "kernelspec": {
      "name": "python3",
      "display_name": "Python 3"
    },
    "language_info": {
      "name": "python"
    }
  },
  "cells": [
    {
      "cell_type": "markdown",
      "metadata": {
        "id": "view-in-github",
        "colab_type": "text"
      },
      "source": [
        "<a href=\"https://colab.research.google.com/github/githinjimary/Capstone-project/blob/main/module4trial1.ipynb\" target=\"_parent\"><img src=\"https://colab.research.google.com/assets/colab-badge.svg\" alt=\"Open In Colab\"/></a>"
      ]
    },
    {
      "cell_type": "code",
      "execution_count": null,
      "metadata": {
        "id": "UAC6x47rZDbS"
      },
      "outputs": [],
      "source": [
        "#standard dependencies\n",
        "import cv2\n",
        "import os\n",
        "import random\n",
        "from random import randrange\n",
        "import numpy as np\n",
        "from matplotlib import pyplot as plt"
      ]
    },
    {
      "cell_type": "code",
      "source": [
        "from google.colab import drive\n",
        "drive.mount('/content/drive')"
      ],
      "metadata": {
        "id": "N4BFLoZ1ZQEi"
      },
      "execution_count": null,
      "outputs": []
    },
    {
      "cell_type": "code",
      "source": [
        "os.chdir('/content/drive/MyDrive/capstone_project')"
      ],
      "metadata": {
        "id": "37KoYmWoZQJI"
      },
      "execution_count": null,
      "outputs": []
    },
    {
      "cell_type": "code",
      "source": [
        "pwd"
      ],
      "metadata": {
        "id": "CphKCgFWZQM2"
      },
      "execution_count": null,
      "outputs": []
    },
    {
      "cell_type": "code",
      "source": [
        "img = cv2.imread('/content/drive/MyDrive/capstone_project/obama3.jpeg')"
      ],
      "metadata": {
        "id": "dh8yRP10aV4L"
      },
      "execution_count": null,
      "outputs": []
    },
    {
      "cell_type": "code",
      "source": [
        "from google.colab.patches import cv2_imshow\n",
        "cv2_imshow(img)\n",
        "#cv2.waitKey(0)"
      ],
      "metadata": {
        "id": "zw1tZv0pajnX"
      },
      "execution_count": null,
      "outputs": []
    },
    {
      "cell_type": "code",
      "source": [
        "#cv2.destroyAllWindows()"
      ],
      "metadata": {
        "id": "JSUkh_PmajhT"
      },
      "execution_count": null,
      "outputs": []
    },
    {
      "cell_type": "code",
      "source": [
        "#CONVERT RHIS IMAGE TO GRAYSCALE\n",
        "grayscaled_img = cv2.cvtColor(img, cv2.COLOR_BGR2GRAY)"
      ],
      "metadata": {
        "id": "o-dpqhFSajbP"
      },
      "execution_count": null,
      "outputs": []
    },
    {
      "cell_type": "code",
      "source": [
        "from google.colab.patches import cv2_imshow\n",
        "cv2_imshow(grayscaled_img)"
      ],
      "metadata": {
        "id": "QApMizFydHMq"
      },
      "execution_count": null,
      "outputs": []
    },
    {
      "cell_type": "code",
      "source": [
        "trained_face_data = cv2.CascadeClassifier('/content/drive/MyDrive/capstone_project/haarcascade_frontalface_alt.xml')"
      ],
      "metadata": {
        "id": "CifEY6zRfm2X"
      },
      "execution_count": null,
      "outputs": []
    },
    {
      "cell_type": "code",
      "source": [
        "#detect\n",
        "face_coordinates = trained_face_data.detectMultiScale(grayscaled_img)"
      ],
      "metadata": {
        "id": "b6qA3S-Mau5E"
      },
      "execution_count": null,
      "outputs": []
    },
    {
      "cell_type": "code",
      "source": [
        "print(face_coordinates)"
      ],
      "metadata": {
        "id": "fxjVg15UiQSW"
      },
      "execution_count": null,
      "outputs": []
    },
    {
      "cell_type": "code",
      "source": [
        "#rectangle for one image\n",
        "img = cv2.imread('/content/drive/MyDrive/capstone_project/obama.jpg')\n",
        "cv2.rectangle(img , (113 , 101) , (320, 308) , (0 , 255 , 0) , 2)\n",
        "cv2_imshow(img)"
      ],
      "metadata": {
        "id": "gVuCli_Bjmj2"
      },
      "execution_count": null,
      "outputs": []
    },
    {
      "cell_type": "code",
      "source": [
        "img = cv2.imread('/content/drive/MyDrive/capstone_project/obama3.jpeg')\n",
        "for (x , y , w , h) in face_coordinates:\n",
        "   cv2.rectangle(img , (x , y) , (x+w , y+h) , (0 , 255 , 0) , 2)\n",
        "cv2_imshow(img)"
      ],
      "metadata": {
        "id": "XxTFpHxSseBP"
      },
      "execution_count": null,
      "outputs": []
    },
    {
      "cell_type": "code",
      "source": [
        "img = cv2.imread('/content/drive/MyDrive/capstone_project/obama3.jpeg')\n",
        "for (x , y , w , h) in face_coordinates:\n",
        "   cv2.rectangle(img , (x , y) , (x+w , y+h) , (randrange(256) , randrange(256), randrange(256)) , 3)\n",
        "cv2_imshow(img)"
      ],
      "metadata": {
        "id": "T8jZpWtLaupY"
      },
      "execution_count": null,
      "outputs": []
    },
    {
      "cell_type": "markdown",
      "source": [
        "***VIDEO***"
      ],
      "metadata": {
        "id": "BwAjA3uFs27K"
      }
    },
    {
      "cell_type": "code",
      "source": [
        "#TO CAPTURE VIDEO FROM WEBCAM\n",
        "webcam = cv2.VideoCapture('/content/drive/MyDrive/capstone_project/mixkit-group-of-friends-partying-happily-4640.mp4.crdownload') "
      ],
      "metadata": {
        "id": "0QAbKwM-s2kP"
      },
      "execution_count": null,
      "outputs": []
    },
    {
      "cell_type": "code",
      "source": [
        "#TO CAPTURE VIDEO FROM WEBCAM\n",
        "import cv2\n",
        "webcam = cv2.VideoCapture(1000)\n",
        "\n",
        "while True:\t\n",
        "\t\n",
        "\tsuccessful_frame_read , frame = webcam.read()"
      ],
      "metadata": {
        "id": "AV1RpNljriOO"
      },
      "execution_count": null,
      "outputs": []
    },
    {
      "cell_type": "code",
      "source": [
        "while True:\t\n",
        "\t\n",
        "\tsuccessful_frame_read , frame = webcam.read()"
      ],
      "metadata": {
        "id": "osUC6-n2uoIb"
      },
      "execution_count": null,
      "outputs": []
    },
    {
      "cell_type": "code",
      "source": [
        "grayscaled_img = cv2.cvtColor(frame, cv2.COLOR_BGR2GRAY) \n",
        "cv2_imshow(grayscaled_img)\n",
        "cv2.waitKey(1)"
      ],
      "metadata": {
        "id": "ANfinmPmwraL"
      },
      "execution_count": null,
      "outputs": []
    },
    {
      "cell_type": "code",
      "source": [
        "#detect face\n",
        "face_coordinates = trained_face_data.detectMultiScale(grayscaled_img) "
      ],
      "metadata": {
        "id": "WgdrV2Tnyklx"
      },
      "execution_count": null,
      "outputs": []
    },
    {
      "cell_type": "code",
      "source": [
        "for (x , y , w , h) in face_coordinates:\n",
        "\t\t\tcv2.rectangle(frame , (x , y) , (x+w , y+h) , (0 , 255 , 0) , 5)\n",
        "   \n",
        "cv2_imshow(frame)"
      ],
      "metadata": {
        "id": "V1ihpZdvy0jR"
      },
      "execution_count": null,
      "outputs": []
    },
    {
      "cell_type": "code",
      "source": [
        "# Image pops up\n",
        "\tcv2.imshow('Name_Your_Frame', frame)\n",
        "\tkey = cv2.waitKey(1) # Image will stay until any key is pressed\n",
        "\t\n",
        "\t# To close the web cam\n",
        "\tif key == 81 or key == 113: # ascii code for Q or q\n",
        "\t\tbreak\n",
        "\n",
        "# release the VideoCapture object\n",
        "# Closes the file and releases all the memory buffers.\n",
        "webcam.release()"
      ],
      "metadata": {
        "id": "ChNPZt8y0J27"
      },
      "execution_count": null,
      "outputs": []
    }
  ]
}